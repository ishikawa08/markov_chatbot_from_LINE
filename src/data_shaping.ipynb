{
 "cells": [
  {
   "cell_type": "markdown",
   "metadata": {},
   "source": [
    "# データの整形\n",
    "LINEからエクスポートしたデータを整形して各々の発言に分けます"
   ]
  },
  {
   "cell_type": "code",
   "execution_count": null,
   "metadata": {},
   "outputs": [],
   "source": [
    "# google colab上でgoogle driveをマウントする際は使用してください\n",
    "from google.colab import drive\n",
    "drive.mount('/content/drive')\n",
    "%cd drive/My Drive/markov_chatbot_from_LINE"
   ]
  },
  {
   "cell_type": "code",
   "execution_count": null,
   "metadata": {},
   "outputs": [],
   "source": [
    "# 以下の2つのライブラリは使わなくても良いです\n",
    "!pip install neologdn  # 表現を正規化するためのライブラリ\n",
    "!pip install emoji  # 絵文字を除去するためのライブラリ"
   ]
  },
  {
   "cell_type": "code",
   "execution_count": null,
   "metadata": {},
   "outputs": [],
   "source": [
    "file_path = './../data/raw_data.txt'\n",
    "\n",
    "with open(file_path) as f:\n",
    "    lines = [s.replace('\\n','').replace('\\t','').replace('\\u3000','') for s in f.readlines()]\n",
    "lines=lines[3:]  # 先頭の3行を削除\n",
    "# lines"
   ]
  },
  {
   "cell_type": "code",
   "execution_count": null,
   "metadata": {},
   "outputs": [],
   "source": [
    "import neologdn\n",
    "import emoji\n",
    "\n",
    "for i, line in enumerate(lines):\n",
    "    # 西暦の行を削除\n",
    "    if ('2018' in line) or ('2019' in line) or ('2020' in line):\n",
    "        line = ''\n",
    "    # 会話でないものを削除\n",
    "    elif ('[スタンプ]' in line) or ('[ファイル]' in line) or ('[写真]' in line) or ('[動画]' in line) or ('アルバム' in line) or ('ノートに' in line) or ('通話' in line) or ('http' in line):\n",
    "        line = ''\n",
    "    # 時刻を削除\n",
    "    if len(line) >= 4:\n",
    "        if line[1] == ':':\n",
    "            line = line[4:]\n",
    "        elif line[2] == ':':\n",
    "            line = line[5:]\n",
    "    # 表現を正規化\n",
    "    line = neologdn.normalize(line)\n",
    "    # 絵文字を除去\n",
    "    line = ''.join(['' if c in emoji.UNICODE_EMOJI else c for c in line])\n",
    "\n",
    "# リストから空の文字列を削除\n",
    "lines = list(filter(lambda a: a != '', lines))\n",
    "\n",
    "lines"
   ]
  },
  {
   "cell_type": "code",
   "execution_count": null,
   "metadata": {},
   "outputs": [],
   "source": [
    "# どちらの発言かを判定しリストに格納\n",
    "my_name='hoge男'\n",
    "partner_name='huge子'\n",
    "\n",
    "my_remarks=[]\n",
    "partner_remarks=[]\n",
    "\n",
    "for line in lines:\n",
    "    if line[0:3]==my_name[0:3]:\n",
    "        speaker=my_name\n",
    "        my_remarks.append(line.replace(my_name,''))\n",
    "    \n",
    "    elif line[0:3]==partner_name[0:3]:\n",
    "        speaker=partner_name\n",
    "        partner_remarks.append(line.replace(partner_name,''))\n",
    "\n",
    "    else:\n",
    "        if speaker==my_name:\n",
    "            my_remarks.append(line.replace(my_name,''))\n",
    "        else:\n",
    "            partner_remarks.append(line.replace(partner_name,''))\n",
    "\n",
    "my_remarks"
   ]
  },
  {
   "cell_type": "code",
   "execution_count": null,
   "metadata": {},
   "outputs": [],
   "source": [
    "my_remarks_file_path = './../data/my_remarks.txt'\n",
    "partner_remarks_file_path = './../data/partner_remarks.txt'\n",
    "\n",
    "# 自分の発言をtxtファイルに書き込み\n",
    "with open(my_remarks_file_path, mode='w') as f:\n",
    "    f.write('\\n'.join(my_remarks))\n",
    "\n",
    "# 相手の発言をファイルに書き込み\n",
    "with open(partner_remarks_file_path, mode='w') as f:\n",
    "    f.write('\\n'.join(partner_remarks))"
   ]
  }
 ],
 "metadata": {
  "kernelspec": {
   "display_name": "Python 3",
   "language": "python",
   "name": "python3"
  },
  "language_info": {
   "codemirror_mode": {
    "name": "ipython",
    "version": 3
   },
   "file_extension": ".py",
   "mimetype": "text/x-python",
   "name": "python",
   "nbconvert_exporter": "python",
   "pygments_lexer": "ipython3",
   "version": "3.7.4"
  }
 },
 "nbformat": 4,
 "nbformat_minor": 2
}

{
 "cells": [
  {
   "cell_type": "markdown",
   "metadata": {},
   "source": [
    "# マルコフ連鎖による文章の生成"
   ]
  },
  {
   "cell_type": "code",
   "execution_count": null,
   "metadata": {},
   "outputs": [],
   "source": [
    "# google colab上でgoogle driveをマウントする際は使用してください\n",
    "from google.colab import drive\n",
    "drive.mount('/content/drive')\n",
    "%cd drive/My Drive/markov_chatbot_from_LINE"
   ]
  },
  {
   "cell_type": "code",
   "execution_count": null,
   "metadata": {},
   "outputs": [],
   "source": [
    "!pip install markovify\n",
    "!pip install mecab-python3"
   ]
  },
  {
   "cell_type": "code",
   "execution_count": null,
   "metadata": {},
   "outputs": [],
   "source": [
    "import markovify\n",
    "import MeCab\n",
    "\n",
    "my_remarks_file_path = './../data/my_remarks.txt'\n",
    "partner_remarks_file_path = './../data/partner_remarks.txt'\n",
    "\n",
    "with open(my_remarks_file_path) as f:\n",
    "    text = f.read()\n",
    "\n",
    "parsed_text = MeCab.Tagger('-Owakati').parse(text)\n",
    "text_model = markovify.Text(parsed_text, state_size=3)\n",
    "\n",
    "for _ in range(10):\n",
    "    sentence = text_model.make_short_sentence(100, 20, tries=20).replace(' ', '')\n",
    "    print(sentence)"
   ]
  }
 ],
 "metadata": {
  "kernelspec": {
   "display_name": "Python 3",
   "language": "python",
   "name": "python3"
  },
  "language_info": {
   "codemirror_mode": {
    "name": "ipython",
    "version": 3
   },
   "file_extension": ".py",
   "mimetype": "text/x-python",
   "name": "python",
   "nbconvert_exporter": "python",
   "pygments_lexer": "ipython3",
   "version": "3.7.4"
  }
 },
 "nbformat": 4,
 "nbformat_minor": 2
}